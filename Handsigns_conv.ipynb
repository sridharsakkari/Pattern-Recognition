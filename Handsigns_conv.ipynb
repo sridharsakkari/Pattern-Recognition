{
 "cells": [
  {
   "cell_type": "code",
   "execution_count": 150,
   "metadata": {},
   "outputs": [],
   "source": [
    "import numpy as np\n",
    "from numpy import mean,std\n",
    "\n",
    "import pandas as pd\n",
    "\n",
    "import seaborn as sns\n",
    "\n",
    "import sklearn\n",
    "from sklearn.model_selection import train_test_split\n",
    "from sklearn.model_selection import KFold\n",
    "from sklearn import preprocessing\n",
    "from sklearn.metrics import confusion_matrix,precision_recall_fscore_support\n",
    "\n",
    "import matplotlib.pyplot as plt\n",
    "\n",
    "from keras.models import Sequential\n",
    "from keras.layers import Input,Dense,Conv2D,MaxPooling2D,Flatten,ZeroPadding2D\n",
    "from keras.datasets import mnist\n",
    "from keras.utils import to_categorical\n",
    "from keras.optimizers import SGD,Adam\n",
    "from keras.preprocessing.image import load_img\n",
    "from keras.preprocessing.image import img_to_array\n",
    "from keras.models import load_model,Model\n",
    "from keras.backend import placeholder\n",
    "import h5py\n",
    "from zipfile import ZipFile"
   ]
  },
  {
   "cell_type": "markdown",
   "metadata": {},
   "source": [
    "The Y label ranges from 0- 9 and are already encoded as one-hot matrix."
   ]
  },
  {
   "cell_type": "raw",
   "metadata": {},
   "source": [
    "with ZipFile('sign_mnist_train.csv.zip', 'r') as zipObj:\n",
    "   # Extract all the contents of zip file in current directory\n",
    "   zipObj.extractall()"
   ]
  },
  {
   "cell_type": "raw",
   "metadata": {},
   "source": [
    "with ZipFile('sign_mnist_test.csv.zip', 'r') as zipObj:\n",
    "   # Extract all the contents of zip file in current directory\n",
    "   zipObj.extractall()"
   ]
  },
  {
   "cell_type": "raw",
   "metadata": {},
   "source": [
    "TrainDataset = np.array(pd.read_csv('sign_mnist_train.csv','r',delimiter = ','))\n",
    "TestDataset = np.array(pd.read_csv('sign_mnist_test.csv','r',delimiter = ','))"
   ]
  },
  {
   "cell_type": "code",
   "execution_count": 151,
   "metadata": {},
   "outputs": [],
   "source": [
    "TrainDataset = h5py.File('train_handsignals.h5','r')\n",
    "TestDataset = h5py.File('test_handsignals.h5','r')\n"
   ]
  },
  {
   "cell_type": "code",
   "execution_count": 152,
   "metadata": {},
   "outputs": [],
   "source": [
    "X_train = np.array(TrainDataset['train_set_x'][:])\n",
    "X_test = np.array(TestDataset['test_set_x'][:])\n",
    "\n",
    "Y_train = np.array(TrainDataset['train_set_y'][:])\n",
    "Y_test = np.array(TestDataset['test_set_y'][:])"
   ]
  },
  {
   "cell_type": "code",
   "execution_count": 153,
   "metadata": {},
   "outputs": [
    {
     "name": "stdout",
     "output_type": "stream",
     "text": [
      "2\n"
     ]
    },
    {
     "data": {
      "image/png": "[encoded data removed]",
      "text/plain": [
       "<Figure size 432x288 with 1 Axes>"
      ]
     },
     "metadata": {
      "needs_background": "light"
     },
     "output_type": "display_data"
    }
   ],
   "source": [
    "#sample image check\n",
    "idx = 2\n",
    "plt.imshow(X_train[idx])\n",
    "print(Y_train[idx])"
   ]
  },
  {
   "cell_type": "code",
   "execution_count": 154,
   "metadata": {},
   "outputs": [],
   "source": [
    "m = X_train.shape[0]\n",
    "pix = X_train.shape[1]\n",
    "nC = X_train.shape[3]\n",
    "numLabels = len(np.unique(Y_train))"
   ]
  },
  {
   "cell_type": "code",
   "execution_count": 161,
   "metadata": {},
   "outputs": [],
   "source": [
    "def data_reshape(X1,X2,Y1,Y2,nC,numLabels):\n",
    "    \n",
    "    \n",
    "    pix = X1.shape[1]\n",
    "    \n",
    "    X1 = X1.reshape(-1,pix,pix,nC)\n",
    "    X2 = X2.reshape(-1,pix,pix,nC)\n",
    "    \n",
    "\n",
    "    Y1 = Y1.reshape(-1,1)\n",
    "    Y2 = Y2.reshape(-1,1)\n",
    "    \n",
    "    Y1_oh = to_categorical(Y1,numLabels)\n",
    "    Y2_oh = to_categorical(Y2,numLabels)\n",
    "    \n",
    "    X1_norm = (X1/255.0).astype('float32')\n",
    "    X2_norm = (X2/255.0).astype('float32')\n",
    "    \n",
    "    return Y1_oh,Y2_oh,X1_norm,X2_norm\n",
    "    \n",
    "    \n",
    "    \n",
    "    \n",
    "Y_train_oh,Y_test_oh,X_train_norm,X_test_norm = data_reshape(X_train,X_test,Y_train,Y_test,nC,numLabels);    \n"
   ]
  },
  {
   "cell_type": "code",
   "execution_count": 162,
   "metadata": {},
   "outputs": [],
   "source": [
    "def Model_Conv2D(X1,X2,Y1,Y2,nC,numLabels):\n",
    "    \n",
    "    # reshape the datasets as per our requirements\n",
    "    \n",
    "    Y1_oh,Y2_oh,X1_norm,X2_norm = data_reshape(X1,X2,Y1,Y2,nC,numLabels)   \n",
    "    \n",
    "    pix = X1.shape[1]\n",
    "    \n",
    "    (nX,nY,nC) = X1_norm.shape[1:]\n",
    "    \n",
    "    X_input = Input((nX,nY,nC))\n",
    "    \n",
    "    \n",
    "    X = Conv2D(32,(3,3),padding = 'valid',strides = (1,1),activation = 'relu',kernel_initializer = 'he_uniform',bias_initializer = 'zeros',input_shape = (nX,nY,nC))(X_input)\n",
    "    \n",
    "    \n",
    "\n",
    "    X = MaxPooling2D(pool_size = (2,2),strides = None,padding = 'valid')(X)\n",
    "    \n",
    "    X = Conv2D(64,(3,3),padding = 'valid',strides = (1,1),activation = 'relu',kernel_initializer = 'he_uniform',bias_initializer = 'zeros')(X)\n",
    "    \n",
    "    X = MaxPooling2D(pool_size = (2,2),strides = None,padding = 'valid')(X)\n",
    "    \n",
    "    X = Conv2D(64,(3,3),padding = 'valid',strides = (1,1),activation = 'relu',kernel_initializer = 'he_uniform',bias_initializer = 'zeros')(X)\n",
    "    \n",
    "    X = MaxPooling2D(pool_size = (2,2),strides = None,padding = 'valid')(X)\n",
    "    \n",
    "    X = Flatten()(X)\n",
    "    \n",
    "    X = Dense(100,activation = 'relu',use_bias = True,kernel_initializer = 'he_uniform')(X)\n",
    "    \n",
    "    X = Dense(80,activation = 'relu',use_bias = True,kernel_initializer = 'he_uniform')(X)\n",
    "\n",
    "    X =Dense(6,activation = 'softmax')(X)\n",
    "    \n",
    "    \n",
    "    \n",
    "    #compile the model\n",
    "    \n",
    "    model = Model(inputs = X_input,outputs = X)\n",
    "    \n",
    "    opt = SGD(learning_rate = 0.01,momentum = 0.9)\n",
    "    \n",
    "    model.compile(optimizer = opt,loss = 'categorical_crossentropy',metrics = ['accuracy'])\n",
    "    \n",
    "    \n",
    "    return Y1_oh,Y2_oh,X1_norm,X2_norm,model\n",
    "\n",
    "    "
   ]
  },
  {
   "cell_type": "code",
   "execution_count": 183,
   "metadata": {},
   "outputs": [
    {
     "name": "stdout",
     "output_type": "stream",
     "text": [
      "Epoch 1/20\n",
      "1080/1080 [==============================] - 4s 4ms/step - loss: 1.8154 - accuracy: 0.1824\n",
      "Epoch 2/20\n",
      "1080/1080 [==============================] - 4s 3ms/step - loss: 1.7439 - accuracy: 0.2602\n",
      "Epoch 3/20\n",
      "1080/1080 [==============================] - 4s 3ms/step - loss: 1.4878 - accuracy: 0.3889\n",
      "Epoch 4/20\n",
      "1080/1080 [==============================] - 4s 3ms/step - loss: 1.0914 - accuracy: 0.5870\n",
      "Epoch 5/20\n",
      "1080/1080 [==============================] - 4s 3ms/step - loss: 0.9343 - accuracy: 0.6185\n",
      "Epoch 6/20\n",
      "1080/1080 [==============================] - 4s 3ms/step - loss: 0.7259 - accuracy: 0.7120\n",
      "Epoch 7/20\n",
      "1080/1080 [==============================] - 4s 3ms/step - loss: 0.4859 - accuracy: 0.8185\n",
      "Epoch 8/20\n",
      "1080/1080 [==============================] - 4s 3ms/step - loss: 0.4324 - accuracy: 0.8296\n",
      "Epoch 9/20\n",
      "1080/1080 [==============================] - 4s 3ms/step - loss: 0.3174 - accuracy: 0.8907\n",
      "Epoch 10/20\n",
      "1080/1080 [==============================] - 4s 3ms/step - loss: 0.2744 - accuracy: 0.9083\n",
      "Epoch 11/20\n",
      "1080/1080 [==============================] - 4s 4ms/step - loss: 0.2212 - accuracy: 0.9194\n",
      "Epoch 12/20\n",
      "1080/1080 [==============================] - 4s 4ms/step - loss: 0.1555 - accuracy: 0.9407\n",
      "Epoch 13/20\n",
      "1080/1080 [==============================] - 4s 4ms/step - loss: 0.1120 - accuracy: 0.9611\n",
      "Epoch 14/20\n",
      "1080/1080 [==============================] - 4s 4ms/step - loss: 0.1383 - accuracy: 0.9519\n",
      "Epoch 15/20\n",
      "1080/1080 [==============================] - 4s 4ms/step - loss: 0.1360 - accuracy: 0.9602\n",
      "Epoch 16/20\n",
      "1080/1080 [==============================] - 4s 4ms/step - loss: 0.0673 - accuracy: 0.9704\n",
      "Epoch 17/20\n",
      "1080/1080 [==============================] - 4s 4ms/step - loss: 0.0837 - accuracy: 0.9667\n",
      "Epoch 18/20\n",
      "1080/1080 [==============================] - 4s 4ms/step - loss: 0.0246 - accuracy: 0.9944\n",
      "Epoch 19/20\n",
      "1080/1080 [==============================] - 4s 4ms/step - loss: 0.0159 - accuracy: 0.9944\n",
      "Epoch 20/20\n",
      "1080/1080 [==============================] - 4s 4ms/step - loss: 0.0096 - accuracy: 0.9981\n"
     ]
    },
    {
     "data": {
      "text/plain": [
       "Text(0, 0.5, 'loss')"
      ]
     },
     "execution_count": 183,
     "metadata": {},
     "output_type": "execute_result"
    },
    {
     "data": {
      "image/png": "[encoded data removed]",
      "text/plain": [
       "<Figure size 432x288 with 1 Axes>"
      ]
     },
     "metadata": {
      "needs_background": "light"
     },
     "output_type": "display_data"
    }
   ],
   "source": [
    "Y_train_oh,Y_test_oh,X_train_norm,X_test_norm,model = Model_Conv2D(X_train,X_test,Y_train,Y_test,nC,numLabels)\n",
    "history = model.fit(X_train_norm,Y_train_oh,epochs = 20,batch_size = 32)\n",
    "model.save('final_model.h5')\n",
    "plt.plot(history.history['loss'])\n",
    "plt.xlabel('epochs')\n",
    "plt.ylabel('loss')"
   ]
  },
  {
   "cell_type": "code",
   "execution_count": 184,
   "metadata": {},
   "outputs": [
    {
     "name": "stdout",
     "output_type": "stream",
     "text": [
      "120/120 [==============================] - 1s 5ms/step\n",
      "Test Accuracy : 94.16666626930237\n"
     ]
    }
   ],
   "source": [
    "    \n",
    "_,test_accuracy = model.evaluate(X_test_norm,Y_test_oh)\n",
    "print('Test Accuracy :',(100*test_accuracy))\n",
    "predictions = model.predict(X_test_norm);\n",
    "pred = [round(x[0]) for x in predictions]     "
   ]
  },
  {
   "cell_type": "code",
   "execution_count": 190,
   "metadata": {},
   "outputs": [],
   "source": [
    "def load_image(image_file,pix):\n",
    "    \n",
    "    img = load_img(image_file,target_size = ((pix,pix)))\n",
    "    img = img_to_array(img)\n",
    "    img = img.reshape(1,pix,pix,3)\n",
    "    img = img.astype('float32')\n",
    "    img = img/255.0\n",
    "    \n",
    "    return img\n"
   ]
  },
  {
   "cell_type": "code",
   "execution_count": 191,
   "metadata": {},
   "outputs": [
    {
     "name": "stdout",
     "output_type": "stream",
     "text": [
      "2\n"
     ]
    }
   ],
   "source": [
    "img = load_image('image6.jpg',pix)\n",
    "model = load_model('final_model.h5')\n",
    "#digit = model.predict_classes(img)  # for sequential models\n",
    "digit = np.argmax(model.predict(img))  #for model based models\n",
    "print(digit)\n"
   ]
  },
  {
   "cell_type": "code",
   "execution_count": null,
   "metadata": {},
   "outputs": [],
   "source": []
  }
 ],
 "metadata": {
  "kernelspec": {
   "display_name": "Python 3",
   "language": "python",
   "name": "python3"
  },
  "language_info": {
   "codemirror_mode": {
    "name": "ipython",
    "version": 3
   },
   "file_extension": ".py",
   "mimetype": "text/x-python",
   "name": "python",
   "nbconvert_exporter": "python",
   "pygments_lexer": "ipython3",
   "version": "3.7.6"
  }
 },
 "nbformat": 4,
 "nbformat_minor": 4
}
